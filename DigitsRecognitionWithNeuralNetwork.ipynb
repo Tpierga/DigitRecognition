{
 "cells": [
  {
   "cell_type": "code",
   "execution_count": 98,
   "metadata": {},
   "outputs": [],
   "source": [
    "import numpy as np\n",
    "import matplotlib.pyplot as plt\n"
   ]
  },
  {
   "cell_type": "code",
   "execution_count": 99,
   "metadata": {},
   "outputs": [],
   "source": [
    "import pandas as pd"
   ]
  },
  {
   "cell_type": "code",
   "execution_count": 100,
   "metadata": {},
   "outputs": [],
   "source": [
    "data = pd.read_csv('train.csv')"
   ]
  },
  {
   "cell_type": "code",
   "execution_count": 101,
   "metadata": {},
   "outputs": [],
   "source": [
    "data = data.to_numpy()"
   ]
  },
  {
   "cell_type": "code",
   "execution_count": 102,
   "metadata": {},
   "outputs": [
    {
     "data": {
      "text/plain": [
       "(42000, 785)"
      ]
     },
     "execution_count": 102,
     "metadata": {},
     "output_type": "execute_result"
    }
   ],
   "source": [
    "data.shape"
   ]
  },
  {
   "cell_type": "code",
   "execution_count": 103,
   "metadata": {},
   "outputs": [
    {
     "name": "stdout",
     "output_type": "stream",
     "text": [
      "[[0. 1. 0. ... 0. 0. 0.]\n",
      " [1. 0. 0. ... 0. 0. 0.]\n",
      " [0. 1. 0. ... 0. 0. 0.]\n",
      " ...\n",
      " [0. 0. 0. ... 0. 0. 1.]\n",
      " [0. 0. 0. ... 0. 0. 0.]\n",
      " [0. 0. 0. ... 0. 0. 0.]]\n"
     ]
    }
   ],
   "source": [
    "Y_temp = data[:1000,0]\n",
    "Y = Y_temp.reshape(-1) #same results as below\n",
    "Y = np.eye(10)[Y]\n",
    "print(Y)"
   ]
  },
  {
   "cell_type": "code",
   "execution_count": 104,
   "metadata": {},
   "outputs": [
    {
     "data": {
      "text/plain": [
       "'\\nY_temp = data[:,0]\\n\\nY = np.zeros((X.shape[0], 10))\\nfor i in Y_temp:\\n    for j in range(10):\\n        if Y_temp[i]==j:\\n            Y[i][j]=1\\n        \\nprint(Y)\\n'"
      ]
     },
     "execution_count": 104,
     "metadata": {},
     "output_type": "execute_result"
    }
   ],
   "source": [
    "\"\"\"\n",
    "Y_temp = data[:,0]\n",
    "\n",
    "Y = np.zeros((X.shape[0], 10))\n",
    "for i in Y_temp:\n",
    "    for j in range(10):\n",
    "        if Y_temp[i]==j:\n",
    "            Y[i][j]=1\n",
    "        \n",
    "print(Y)\n",
    "\"\"\""
   ]
  },
  {
   "cell_type": "code",
   "execution_count": 105,
   "metadata": {},
   "outputs": [],
   "source": [
    "X = data[ :1000 , 1:]\n",
    "\n",
    "X_temp = np.reshape(X, (Y.shape[0], 28, 28))"
   ]
  },
  {
   "cell_type": "code",
   "execution_count": 106,
   "metadata": {},
   "outputs": [
    {
     "data": {
      "text/plain": [
       "<matplotlib.image.AxesImage at 0x7f6632795150>"
      ]
     },
     "execution_count": 106,
     "metadata": {},
     "output_type": "execute_result"
    },
    {
     "data": {
      "image/png": "[encoded data removed]",
      "text/plain": [
       "<Figure size 432x288 with 1 Axes>"
      ]
     },
     "metadata": {
      "needs_background": "light"
     },
     "output_type": "display_data"
    }
   ],
   "source": [
    "plt.imshow(X_temp[8], cmap = 'gray', vmin=0, vmax = 255)"
   ]
  },
  {
   "cell_type": "code",
   "execution_count": 107,
   "metadata": {},
   "outputs": [],
   "source": [
    "X = X.T"
   ]
  },
  {
   "cell_type": "code",
   "execution_count": 108,
   "metadata": {},
   "outputs": [
    {
     "data": {
      "text/plain": [
       "(784, 1000)"
      ]
     },
     "execution_count": 108,
     "metadata": {},
     "output_type": "execute_result"
    }
   ],
   "source": [
    "X.shape"
   ]
  },
  {
   "cell_type": "markdown",
   "metadata": {},
   "source": [
    "## Neural Network with predetermined number of layers\n",
    "\n",
    "We start with a three layers network for digit recognition. Let's train the weigths through backpropagation for this task. "
   ]
  },
  {
   "cell_type": "code",
   "execution_count": 143,
   "metadata": {},
   "outputs": [],
   "source": [
    "def random_initialisation():\n",
    "    \n",
    "    \"\"\"Function supposed to initialize with random numbers the weights and bias \n",
    "    for a neural network of 3 layers with respectively 16, 16 and 10 neurons\n",
    "    Our input layer is of size 784 (28x28 pixel image)\"\"\"\n",
    "    \n",
    "    W1 = np.random.randn(16, 784)*0.01\n",
    "    b1 = np.zeros((16, 1))\n",
    "    \n",
    "    W2 = np.random.randn(16, 16)*0.01\n",
    "    b2 = np.zeros((16, 1))\n",
    "    \n",
    "    W3 = np.random.randn(10, 16)*0.01\n",
    "    b3 = np.zeros((10, 1))\n",
    "\n",
    "    \n",
    "    parameters ={\n",
    "        \"W1\": W1,\n",
    "        \"b1\": b1,\n",
    "        \"W2\": W2,\n",
    "        \"b2\": b2,\n",
    "        \"W3\": W3,\n",
    "        \"b3\": b3\n",
    "    }\n",
    "    \n",
    "    return parameters"
   ]
  },
  {
   "cell_type": "code",
   "execution_count": 110,
   "metadata": {},
   "outputs": [],
   "source": [
    "def sigmoid(Z):\n",
    "    A = 1/(1 + np.exp(-Z))\n",
    "    cache = Z\n",
    "    return A, cache"
   ]
  },
  {
   "cell_type": "code",
   "execution_count": 111,
   "metadata": {},
   "outputs": [],
   "source": [
    "def relu(Z):\n",
    "    A = np.maximum(0, Z)\n",
    "    assert(A.shape == Z.shape)\n",
    "    cache = Z\n",
    "    return A, cache"
   ]
  },
  {
   "cell_type": "code",
   "execution_count": 112,
   "metadata": {},
   "outputs": [],
   "source": [
    "def linear_forward(A, W, b):\n",
    "    Z = np.dot(W, A)+b\n",
    "    \n",
    "    cache  = (A, W, b)\n",
    "    \n",
    "    return Z, cache"
   ]
  },
  {
   "cell_type": "code",
   "execution_count": 113,
   "metadata": {},
   "outputs": [],
   "source": [
    "def linear_activation_forward(A_prev, W, b, activation):\n",
    "    \n",
    "    if activation == \"sigmoid\":\n",
    "        Z, linear_cache = linear_forward( A_prev,W, b)\n",
    "        A , activation_cache= sigmoid(Z)\n",
    "    \n",
    "    elif activation == \"relu\":\n",
    "        Z, linear_cache = linear_forward(A_prev,W, b)\n",
    "        A , activation_cache= relu(Z)\n",
    "     \n",
    "    assert (A.shape == (W.shape[0], A_prev.shape[1]))\n",
    "    cache = (linear_cache, activation_cache)\n",
    "        \n",
    "    return A, cache"
   ]
  },
  {
   "cell_type": "code",
   "execution_count": 142,
   "metadata": {},
   "outputs": [],
   "source": [
    "def compute_cost(A, Y):\n",
    "    m = Y.shape[0]\n",
    "    cost = (-1/m)* np.sum(np.multiply(Y,np.log(A)) + np.multiply((1-Y),np.log(1 - A)))\n",
    "    \n",
    "    cost = np.squeeze(cost)\n",
    "    assert(cost.shape==())\n",
    "    \n",
    "    return cost"
   ]
  },
  {
   "cell_type": "code",
   "execution_count": 115,
   "metadata": {},
   "outputs": [],
   "source": [
    "def linear_backward(dZ, cache):\n",
    "    A_prev, W, b = cache\n",
    "    m = A_prev.shape[1]\n",
    "    \n",
    "    dW = (1/m)*np.dot(dZ, A_prev.T)\n",
    "    db = (1/m)*np.sum(dZ, axis = 1, keepdims = True)\n",
    "    dA_prev = np.dot(W.T, dZ)\n",
    "    \n",
    "    assert (dA_prev.shape == A_prev.shape)\n",
    "    assert (dW.shape == W.shape)\n",
    "    assert (db.shape == b.shape)\n",
    "    \n",
    "    return dA_prev, dW, db"
   ]
  },
  {
   "cell_type": "code",
   "execution_count": 116,
   "metadata": {},
   "outputs": [],
   "source": [
    "def relu_backward(dA, activation_cache):\n",
    "    Z = activation_cache\n",
    "    dZ = np.array(dA, copy=True)\n",
    "     \n",
    "    dZ[Z <= 0] = 0 #which is equal to 0 when Z <= 0\n",
    "    \n",
    "    assert(dZ.shape==Z.shape)\n",
    "    \n",
    "    return dZ"
   ]
  },
  {
   "cell_type": "code",
   "execution_count": 117,
   "metadata": {},
   "outputs": [],
   "source": [
    "def sigmoid_backward(dA, activation_cache):\n",
    "    Z = activation_cache\n",
    "    #dZ = np.array(dA, copy=True)\n",
    "    \n",
    "    s = 1/(1+np.exp(-Z))\n",
    "    dZ = dA * s * (1-s)  #sigmoid derivative\n",
    "    \n",
    "    assert(dZ.shape == Z.shape)\n",
    "    \n",
    "    return dZ"
   ]
  },
  {
   "cell_type": "code",
   "execution_count": 118,
   "metadata": {},
   "outputs": [],
   "source": [
    "def linear_activation_backward(dA, cache, activation):\n",
    "    \n",
    "    linear_cache, activation_cache = cache\n",
    "    \n",
    "    if activation == \"relu\":\n",
    "        dZ = relu_backward(dA, activation_cache)\n",
    "        dA_prev, dW, db = linear_backward(dZ, linear_cache)\n",
    "        \n",
    "    elif activation == \"sigmoid\":\n",
    "        dZ = sigmoid_backward(dA, activation_cache)\n",
    "        dA_prev, dW, db = linear_backward(dZ, linear_cache)\n",
    "        \n",
    "    return dA_prev, dW, db"
   ]
  },
  {
   "cell_type": "code",
   "execution_count": 126,
   "metadata": {},
   "outputs": [],
   "source": [
    "def update_parameters(parameters, grads, learning_rate):\n",
    "    \n",
    "    for i in range(3):\n",
    "        parameters[\"W\"+ str(i+1)]=parameters[\"W\"+str(i+1)]-learning_rate*grads[\"dW\"+str(i+1)]\n",
    "        parameters[\"b\"+ str(i+1)]=parameters[\"b\"+str(i+1)]-learning_rate*grads[\"db\"+str(i+1)]\n",
    "        \n",
    "    return parameters"
   ]
  },
  {
   "cell_type": "code",
   "execution_count": 144,
   "metadata": {},
   "outputs": [],
   "source": [
    "def three_layers_network(X, Y, learning_rate = 0.0075, num_iterations = 500):\n",
    "    \n",
    "    grads = {}\n",
    "    costs = []\n",
    "    m = X.shape[1]\n",
    "    A0 = X\n",
    "    Y = Y.T\n",
    "    \n",
    "    #initializing\n",
    "    parameters = random_initialisation()\n",
    "    \n",
    "    \n",
    "    for n in range(num_iterations): \n",
    "        #forwardProp\n",
    "        A1, cache1 = linear_activation_forward(A0, parameters[\"W1\"], parameters[\"b1\"], \"relu\") \n",
    "\n",
    "        A2, cache2 = linear_activation_forward(A1, parameters[\"W2\"], parameters[\"b2\"], \"relu\") \n",
    "\n",
    "        A3, cache3 = linear_activation_forward(A2, parameters[\"W3\"], parameters[\"b3\"], \"sigmoid\") \n",
    "        \n",
    "        #compute cost\n",
    "        cost = compute_cost(A3, Y)\n",
    "        \n",
    "        #backpropagation\n",
    "        dA3 = - (np.divide(Y, A3) - np.divide(1-Y, 1-A3))\n",
    "\n",
    "        dA2, dW3, db3 = linear_activation_backward(dA3, cache3, \"sigmoid\")\n",
    "        dA1, dW2, db2 = linear_activation_backward(dA2, cache2, \"relu\")\n",
    "        dA0, dW1, db1 = linear_activation_backward(dA1, cache1, \"relu\")\n",
    "\n",
    "        grads['dW1']= dW1\n",
    "        grads['db1']= db1\n",
    "        grads['dW2']= dW2\n",
    "        grads['db2']= db2\n",
    "        grads['dW3']= dW3\n",
    "        grads['db3']= db3\n",
    "\n",
    "        parameters = update_parameters(parameters, grads, learning_rate)\n",
    "    \n",
    "        #print cost every 100 iterations\n",
    "        if n%100==0:\n",
    "            print(\"Cost after iteration {} : {}\".format(n, cost))\n",
    "            costs.append(cost)\n",
    "    \n",
    "    #let's plot cost\n",
    "    plt.plot(np.squeeze(costs))\n",
    "    plt.ylabel('cost')\n",
    "    plt.xlabel('num iterations')\n",
    "    plt.title(\"Learning rate =\" + str(learning_rate))\n",
    "    plt.show()\n",
    "    \n",
    "    return parameters"
   ]
  },
  {
   "cell_type": "code",
   "execution_count": 145,
   "metadata": {},
   "outputs": [
    {
     "name": "stdout",
     "output_type": "stream",
     "text": [
      "Cost after iteration 0 : 692.3228743835657\n",
      "Cost after iteration 100 : 155.02232108422328\n",
      "Cost after iteration 200 : 51.99257967265528\n",
      "Cost after iteration 300 : 16.872208599613554\n",
      "Cost after iteration 400 : 7.217838120954389\n"
     ]
    },
    {
     "data": {
      "image/png": "[encoded data removed]",
      "text/plain": [
       "<Figure size 432x288 with 1 Axes>"
      ]
     },
     "metadata": {
      "needs_background": "light"
     },
     "output_type": "display_data"
    }
   ],
   "source": [
    "para= three_layers_network(X, Y)"
   ]
  },
  {
   "cell_type": "code",
   "execution_count": null,
   "metadata": {},
   "outputs": [],
   "source": []
  }
 ],
 "metadata": {
  "kernelspec": {
   "display_name": "Python 3",
   "language": "python",
   "name": "python3"
  },
  "language_info": {
   "codemirror_mode": {
    "name": "ipython",
    "version": 3
   },
   "file_extension": ".py",
   "mimetype": "text/x-python",
   "name": "python",
   "nbconvert_exporter": "python",
   "pygments_lexer": "ipython3",
   "version": "3.7.5"
  }
 },
 "nbformat": 4,
 "nbformat_minor": 4
}
